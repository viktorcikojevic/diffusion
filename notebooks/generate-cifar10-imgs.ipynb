{
 "cells": [
  {
   "cell_type": "code",
   "execution_count": 1,
   "metadata": {},
   "outputs": [],
   "source": [
    "from torchmetrics.image.fid import FrechetInceptionDistance\n",
    "\n"
   ]
  },
  {
   "cell_type": "code",
   "execution_count": 2,
   "metadata": {},
   "outputs": [
    {
     "name": "stdout",
     "output_type": "stream",
     "text": [
      "Files already downloaded and verified\n",
      "Train data count: 45000\n",
      "Validation data count: 5000\n"
     ]
    }
   ],
   "source": [
    "from diffusion.core.dataset_factory import build_train_val_dataloaders\n",
    "\n",
    "cfg = {\n",
    "\t\"dataset\": {\n",
    "\t\t\"type\": \"CIFAR10DiffusionDataset\"\n",
    "\t},\n",
    "\t\"train_pct\": 0.9,\n",
    "\t\"apparent_batch_size\": 16,\n",
    "\t\"num_workers\": 1\n",
    "}\n",
    "\n",
    "train_dataloader, test_dataloader = build_train_val_dataloaders(cfg)"
   ]
  },
  {
   "cell_type": "code",
   "execution_count": 3,
   "metadata": {},
   "outputs": [
    {
     "name": "stderr",
     "output_type": "stream",
     "text": [
      "  9%|▊         | 2812/32768 [00:06<01:07, 441.53it/s] \n"
     ]
    }
   ],
   "source": [
    "from torchvision.utils import save_image\n",
    "from tqdm import tqdm\n",
    "import torch\n",
    "from PIL import Image\n",
    "\n",
    "val_n_imgs = 1024*32\n",
    "\n",
    "collecting = True\n",
    "\n",
    "for batch in tqdm(train_dataloader, total=val_n_imgs):\n",
    "\tif not collecting:\n",
    "\t\tbreak\n",
    "\tfor image in batch[\"img\"]:\n",
    "\t\t# save to /opt/diffusion/data_dumps/samples/original-data/cifar10\n",
    "\t\treal_img = (image + 1) / 2\n",
    "\t\treal_img = (real_img * 255).to(dtype=torch.uint8)\n",
    "\t\treal_img_np = real_img.permute(1, 2, 0).cpu().numpy()\n",
    "\t\t# save to /opt/diffusion/data_dumps/samples/original-data/cifar10\n",
    "\t\tImage.fromarray(real_img_np).save(f\"/opt/diffusion/data_dumps/samples/original-data/cifar10/{val_n_imgs}.png\")\n",
    "\t\t\n",
    "\t\t# save_image(real_img, f\"/opt/diffusion/data_dumps/samples/original-data/cifar10/{val_n_imgs}.png\")\n",
    "\n",
    "\t\tif val_n_imgs <= 0:\n",
    "\t\t\tbreak\n",
    "\n",
    "\t\tval_n_imgs -= 1\n"
   ]
  },
  {
   "cell_type": "code",
   "execution_count": 4,
   "metadata": {},
   "outputs": [
    {
     "data": {
      "text/plain": [
       "torch.Size([3, 32, 32])"
      ]
     },
     "execution_count": 4,
     "metadata": {},
     "output_type": "execute_result"
    }
   ],
   "source": [
    "real_img.shape"
   ]
  },
  {
   "cell_type": "code",
   "execution_count": null,
   "metadata": {},
   "outputs": [],
   "source": []
  }
 ],
 "metadata": {
  "kernelspec": {
   "display_name": "sennet",
   "language": "python",
   "name": "python3"
  },
  "language_info": {
   "codemirror_mode": {
    "name": "ipython",
    "version": 3
   },
   "file_extension": ".py",
   "mimetype": "text/x-python",
   "name": "python",
   "nbconvert_exporter": "python",
   "pygments_lexer": "ipython3",
   "version": "3.11.7"
  }
 },
 "nbformat": 4,
 "nbformat_minor": 2
}
